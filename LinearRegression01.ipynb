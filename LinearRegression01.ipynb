{
  "nbformat": 4,
  "nbformat_minor": 0,
  "metadata": {
    "colab": {
      "provenance": [],
      "authorship_tag": "ABX9TyOk6jmz2BoNIcAVn4gruo61",
      "include_colab_link": true
    },
    "kernelspec": {
      "name": "python3",
      "display_name": "Python 3"
    },
    "language_info": {
      "name": "python"
    }
  },
  "cells": [
    {
      "cell_type": "markdown",
      "metadata": {
        "id": "view-in-github",
        "colab_type": "text"
      },
      "source": [
        "<a href=\"https://colab.research.google.com/github/IamJac/AStarSearchAlgorithm/blob/main/LinearRegression01.ipynb\" target=\"_parent\"><img src=\"https://colab.research.google.com/assets/colab-badge.svg\" alt=\"Open In Colab\"/></a>"
      ]
    },
    {
      "cell_type": "markdown",
      "source": [
        "**Importing modules to be used bold text**"
      ],
      "metadata": {
        "id": "8Kz-tMd59JaD"
      }
    },
    {
      "cell_type": "code",
      "source": [
        "import pandas as pd\n",
        "import numpy as np\n",
        "import matplotlib.pyplot as plt\n",
        "from sklearn import datasets\n",
        "from sklearn.model_selection import train_test_split\n",
        "from sklearn.linear_model import LinearRegression\n",
        "from sklearn.metrics import mean_squared_error,mean_absolute_error,root_mean_squared_error"
      ],
      "metadata": {
        "id": "YS3EZ_xy-P02"
      },
      "execution_count": 173,
      "outputs": []
    },
    {
      "cell_type": "markdown",
      "source": [
        "**Loading the dataset**\n",
        "\n",
        "Converting dataset into a pandas dataframe.\n",
        "\n",
        "Checking if the data is correctly converted into a pandas dataframe."
      ],
      "metadata": {
        "id": "H1VY4Iw2-5na"
      }
    },
    {
      "cell_type": "code",
      "source": [
        "iris_data=datasets.load_iris()\n",
        "print(iris_data)\n",
        "print()\n",
        "data=pd.DataFrame(iris_data.data,columns=iris_data.feature_names)\n",
        "print(data.loc[0:6])\n",
        "print(data.tail())"
      ],
      "metadata": {
        "colab": {
          "base_uri": "https://localhost:8080/"
        },
        "collapsed": true,
        "id": "uVHz2Rb2-4dn",
        "outputId": "0687d33c-1f90-419f-ed9d-e5c4c109443a"
      },
      "execution_count": 174,
      "outputs": [
        {
          "output_type": "stream",
          "name": "stdout",
          "text": [
            "{'data': array([[5.1, 3.5, 1.4, 0.2],\n",
            "       [4.9, 3. , 1.4, 0.2],\n",
            "       [4.7, 3.2, 1.3, 0.2],\n",
            "       [4.6, 3.1, 1.5, 0.2],\n",
            "       [5. , 3.6, 1.4, 0.2],\n",
            "       [5.4, 3.9, 1.7, 0.4],\n",
            "       [4.6, 3.4, 1.4, 0.3],\n",
            "       [5. , 3.4, 1.5, 0.2],\n",
            "       [4.4, 2.9, 1.4, 0.2],\n",
            "       [4.9, 3.1, 1.5, 0.1],\n",
            "       [5.4, 3.7, 1.5, 0.2],\n",
            "       [4.8, 3.4, 1.6, 0.2],\n",
            "       [4.8, 3. , 1.4, 0.1],\n",
            "       [4.3, 3. , 1.1, 0.1],\n",
            "       [5.8, 4. , 1.2, 0.2],\n",
            "       [5.7, 4.4, 1.5, 0.4],\n",
            "       [5.4, 3.9, 1.3, 0.4],\n",
            "       [5.1, 3.5, 1.4, 0.3],\n",
            "       [5.7, 3.8, 1.7, 0.3],\n",
            "       [5.1, 3.8, 1.5, 0.3],\n",
            "       [5.4, 3.4, 1.7, 0.2],\n",
            "       [5.1, 3.7, 1.5, 0.4],\n",
            "       [4.6, 3.6, 1. , 0.2],\n",
            "       [5.1, 3.3, 1.7, 0.5],\n",
            "       [4.8, 3.4, 1.9, 0.2],\n",
            "       [5. , 3. , 1.6, 0.2],\n",
            "       [5. , 3.4, 1.6, 0.4],\n",
            "       [5.2, 3.5, 1.5, 0.2],\n",
            "       [5.2, 3.4, 1.4, 0.2],\n",
            "       [4.7, 3.2, 1.6, 0.2],\n",
            "       [4.8, 3.1, 1.6, 0.2],\n",
            "       [5.4, 3.4, 1.5, 0.4],\n",
            "       [5.2, 4.1, 1.5, 0.1],\n",
            "       [5.5, 4.2, 1.4, 0.2],\n",
            "       [4.9, 3.1, 1.5, 0.2],\n",
            "       [5. , 3.2, 1.2, 0.2],\n",
            "       [5.5, 3.5, 1.3, 0.2],\n",
            "       [4.9, 3.6, 1.4, 0.1],\n",
            "       [4.4, 3. , 1.3, 0.2],\n",
            "       [5.1, 3.4, 1.5, 0.2],\n",
            "       [5. , 3.5, 1.3, 0.3],\n",
            "       [4.5, 2.3, 1.3, 0.3],\n",
            "       [4.4, 3.2, 1.3, 0.2],\n",
            "       [5. , 3.5, 1.6, 0.6],\n",
            "       [5.1, 3.8, 1.9, 0.4],\n",
            "       [4.8, 3. , 1.4, 0.3],\n",
            "       [5.1, 3.8, 1.6, 0.2],\n",
            "       [4.6, 3.2, 1.4, 0.2],\n",
            "       [5.3, 3.7, 1.5, 0.2],\n",
            "       [5. , 3.3, 1.4, 0.2],\n",
            "       [7. , 3.2, 4.7, 1.4],\n",
            "       [6.4, 3.2, 4.5, 1.5],\n",
            "       [6.9, 3.1, 4.9, 1.5],\n",
            "       [5.5, 2.3, 4. , 1.3],\n",
            "       [6.5, 2.8, 4.6, 1.5],\n",
            "       [5.7, 2.8, 4.5, 1.3],\n",
            "       [6.3, 3.3, 4.7, 1.6],\n",
            "       [4.9, 2.4, 3.3, 1. ],\n",
            "       [6.6, 2.9, 4.6, 1.3],\n",
            "       [5.2, 2.7, 3.9, 1.4],\n",
            "       [5. , 2. , 3.5, 1. ],\n",
            "       [5.9, 3. , 4.2, 1.5],\n",
            "       [6. , 2.2, 4. , 1. ],\n",
            "       [6.1, 2.9, 4.7, 1.4],\n",
            "       [5.6, 2.9, 3.6, 1.3],\n",
            "       [6.7, 3.1, 4.4, 1.4],\n",
            "       [5.6, 3. , 4.5, 1.5],\n",
            "       [5.8, 2.7, 4.1, 1. ],\n",
            "       [6.2, 2.2, 4.5, 1.5],\n",
            "       [5.6, 2.5, 3.9, 1.1],\n",
            "       [5.9, 3.2, 4.8, 1.8],\n",
            "       [6.1, 2.8, 4. , 1.3],\n",
            "       [6.3, 2.5, 4.9, 1.5],\n",
            "       [6.1, 2.8, 4.7, 1.2],\n",
            "       [6.4, 2.9, 4.3, 1.3],\n",
            "       [6.6, 3. , 4.4, 1.4],\n",
            "       [6.8, 2.8, 4.8, 1.4],\n",
            "       [6.7, 3. , 5. , 1.7],\n",
            "       [6. , 2.9, 4.5, 1.5],\n",
            "       [5.7, 2.6, 3.5, 1. ],\n",
            "       [5.5, 2.4, 3.8, 1.1],\n",
            "       [5.5, 2.4, 3.7, 1. ],\n",
            "       [5.8, 2.7, 3.9, 1.2],\n",
            "       [6. , 2.7, 5.1, 1.6],\n",
            "       [5.4, 3. , 4.5, 1.5],\n",
            "       [6. , 3.4, 4.5, 1.6],\n",
            "       [6.7, 3.1, 4.7, 1.5],\n",
            "       [6.3, 2.3, 4.4, 1.3],\n",
            "       [5.6, 3. , 4.1, 1.3],\n",
            "       [5.5, 2.5, 4. , 1.3],\n",
            "       [5.5, 2.6, 4.4, 1.2],\n",
            "       [6.1, 3. , 4.6, 1.4],\n",
            "       [5.8, 2.6, 4. , 1.2],\n",
            "       [5. , 2.3, 3.3, 1. ],\n",
            "       [5.6, 2.7, 4.2, 1.3],\n",
            "       [5.7, 3. , 4.2, 1.2],\n",
            "       [5.7, 2.9, 4.2, 1.3],\n",
            "       [6.2, 2.9, 4.3, 1.3],\n",
            "       [5.1, 2.5, 3. , 1.1],\n",
            "       [5.7, 2.8, 4.1, 1.3],\n",
            "       [6.3, 3.3, 6. , 2.5],\n",
            "       [5.8, 2.7, 5.1, 1.9],\n",
            "       [7.1, 3. , 5.9, 2.1],\n",
            "       [6.3, 2.9, 5.6, 1.8],\n",
            "       [6.5, 3. , 5.8, 2.2],\n",
            "       [7.6, 3. , 6.6, 2.1],\n",
            "       [4.9, 2.5, 4.5, 1.7],\n",
            "       [7.3, 2.9, 6.3, 1.8],\n",
            "       [6.7, 2.5, 5.8, 1.8],\n",
            "       [7.2, 3.6, 6.1, 2.5],\n",
            "       [6.5, 3.2, 5.1, 2. ],\n",
            "       [6.4, 2.7, 5.3, 1.9],\n",
            "       [6.8, 3. , 5.5, 2.1],\n",
            "       [5.7, 2.5, 5. , 2. ],\n",
            "       [5.8, 2.8, 5.1, 2.4],\n",
            "       [6.4, 3.2, 5.3, 2.3],\n",
            "       [6.5, 3. , 5.5, 1.8],\n",
            "       [7.7, 3.8, 6.7, 2.2],\n",
            "       [7.7, 2.6, 6.9, 2.3],\n",
            "       [6. , 2.2, 5. , 1.5],\n",
            "       [6.9, 3.2, 5.7, 2.3],\n",
            "       [5.6, 2.8, 4.9, 2. ],\n",
            "       [7.7, 2.8, 6.7, 2. ],\n",
            "       [6.3, 2.7, 4.9, 1.8],\n",
            "       [6.7, 3.3, 5.7, 2.1],\n",
            "       [7.2, 3.2, 6. , 1.8],\n",
            "       [6.2, 2.8, 4.8, 1.8],\n",
            "       [6.1, 3. , 4.9, 1.8],\n",
            "       [6.4, 2.8, 5.6, 2.1],\n",
            "       [7.2, 3. , 5.8, 1.6],\n",
            "       [7.4, 2.8, 6.1, 1.9],\n",
            "       [7.9, 3.8, 6.4, 2. ],\n",
            "       [6.4, 2.8, 5.6, 2.2],\n",
            "       [6.3, 2.8, 5.1, 1.5],\n",
            "       [6.1, 2.6, 5.6, 1.4],\n",
            "       [7.7, 3. , 6.1, 2.3],\n",
            "       [6.3, 3.4, 5.6, 2.4],\n",
            "       [6.4, 3.1, 5.5, 1.8],\n",
            "       [6. , 3. , 4.8, 1.8],\n",
            "       [6.9, 3.1, 5.4, 2.1],\n",
            "       [6.7, 3.1, 5.6, 2.4],\n",
            "       [6.9, 3.1, 5.1, 2.3],\n",
            "       [5.8, 2.7, 5.1, 1.9],\n",
            "       [6.8, 3.2, 5.9, 2.3],\n",
            "       [6.7, 3.3, 5.7, 2.5],\n",
            "       [6.7, 3. , 5.2, 2.3],\n",
            "       [6.3, 2.5, 5. , 1.9],\n",
            "       [6.5, 3. , 5.2, 2. ],\n",
            "       [6.2, 3.4, 5.4, 2.3],\n",
            "       [5.9, 3. , 5.1, 1.8]]), 'target': array([0, 0, 0, 0, 0, 0, 0, 0, 0, 0, 0, 0, 0, 0, 0, 0, 0, 0, 0, 0, 0, 0,\n",
            "       0, 0, 0, 0, 0, 0, 0, 0, 0, 0, 0, 0, 0, 0, 0, 0, 0, 0, 0, 0, 0, 0,\n",
            "       0, 0, 0, 0, 0, 0, 1, 1, 1, 1, 1, 1, 1, 1, 1, 1, 1, 1, 1, 1, 1, 1,\n",
            "       1, 1, 1, 1, 1, 1, 1, 1, 1, 1, 1, 1, 1, 1, 1, 1, 1, 1, 1, 1, 1, 1,\n",
            "       1, 1, 1, 1, 1, 1, 1, 1, 1, 1, 1, 1, 2, 2, 2, 2, 2, 2, 2, 2, 2, 2,\n",
            "       2, 2, 2, 2, 2, 2, 2, 2, 2, 2, 2, 2, 2, 2, 2, 2, 2, 2, 2, 2, 2, 2,\n",
            "       2, 2, 2, 2, 2, 2, 2, 2, 2, 2, 2, 2, 2, 2, 2, 2, 2, 2]), 'frame': None, 'target_names': array(['setosa', 'versicolor', 'virginica'], dtype='<U10'), 'DESCR': '.. _iris_dataset:\\n\\nIris plants dataset\\n--------------------\\n\\n**Data Set Characteristics:**\\n\\n:Number of Instances: 150 (50 in each of three classes)\\n:Number of Attributes: 4 numeric, predictive attributes and the class\\n:Attribute Information:\\n    - sepal length in cm\\n    - sepal width in cm\\n    - petal length in cm\\n    - petal width in cm\\n    - class:\\n            - Iris-Setosa\\n            - Iris-Versicolour\\n            - Iris-Virginica\\n\\n:Summary Statistics:\\n\\n============== ==== ==== ======= ===== ====================\\n                Min  Max   Mean    SD   Class Correlation\\n============== ==== ==== ======= ===== ====================\\nsepal length:   4.3  7.9   5.84   0.83    0.7826\\nsepal width:    2.0  4.4   3.05   0.43   -0.4194\\npetal length:   1.0  6.9   3.76   1.76    0.9490  (high!)\\npetal width:    0.1  2.5   1.20   0.76    0.9565  (high!)\\n============== ==== ==== ======= ===== ====================\\n\\n:Missing Attribute Values: None\\n:Class Distribution: 33.3% for each of 3 classes.\\n:Creator: R.A. Fisher\\n:Donor: Michael Marshall (MARSHALL%PLU@io.arc.nasa.gov)\\n:Date: July, 1988\\n\\nThe famous Iris database, first used by Sir R.A. Fisher. The dataset is taken\\nfrom Fisher\\'s paper. Note that it\\'s the same as in R, but not as in the UCI\\nMachine Learning Repository, which has two wrong data points.\\n\\nThis is perhaps the best known database to be found in the\\npattern recognition literature.  Fisher\\'s paper is a classic in the field and\\nis referenced frequently to this day.  (See Duda & Hart, for example.)  The\\ndata set contains 3 classes of 50 instances each, where each class refers to a\\ntype of iris plant.  One class is linearly separable from the other 2; the\\nlatter are NOT linearly separable from each other.\\n\\n.. dropdown:: References\\n\\n  - Fisher, R.A. \"The use of multiple measurements in taxonomic problems\"\\n    Annual Eugenics, 7, Part II, 179-188 (1936); also in \"Contributions to\\n    Mathematical Statistics\" (John Wiley, NY, 1950).\\n  - Duda, R.O., & Hart, P.E. (1973) Pattern Classification and Scene Analysis.\\n    (Q327.D83) John Wiley & Sons.  ISBN 0-471-22361-1.  See page 218.\\n  - Dasarathy, B.V. (1980) \"Nosing Around the Neighborhood: A New System\\n    Structure and Classification Rule for Recognition in Partially Exposed\\n    Environments\".  IEEE Transactions on Pattern Analysis and Machine\\n    Intelligence, Vol. PAMI-2, No. 1, 67-71.\\n  - Gates, G.W. (1972) \"The Reduced Nearest Neighbor Rule\".  IEEE Transactions\\n    on Information Theory, May 1972, 431-433.\\n  - See also: 1988 MLC Proceedings, 54-64.  Cheeseman et al\"s AUTOCLASS II\\n    conceptual clustering system finds 3 classes in the data.\\n  - Many, many more ...\\n', 'feature_names': ['sepal length (cm)', 'sepal width (cm)', 'petal length (cm)', 'petal width (cm)'], 'filename': 'iris.csv', 'data_module': 'sklearn.datasets.data'}\n",
            "\n",
            "   sepal length (cm)  sepal width (cm)  petal length (cm)  petal width (cm)\n",
            "0                5.1               3.5                1.4               0.2\n",
            "1                4.9               3.0                1.4               0.2\n",
            "2                4.7               3.2                1.3               0.2\n",
            "3                4.6               3.1                1.5               0.2\n",
            "4                5.0               3.6                1.4               0.2\n",
            "5                5.4               3.9                1.7               0.4\n",
            "6                4.6               3.4                1.4               0.3\n",
            "     sepal length (cm)  sepal width (cm)  petal length (cm)  petal width (cm)\n",
            "145                6.7               3.0                5.2               2.3\n",
            "146                6.3               2.5                5.0               1.9\n",
            "147                6.5               3.0                5.2               2.0\n",
            "148                6.2               3.4                5.4               2.3\n",
            "149                5.9               3.0                5.1               1.8\n"
          ]
        }
      ]
    },
    {
      "cell_type": "markdown",
      "source": [
        "**Exploratory Data Analysis**"
      ],
      "metadata": {
        "id": "JbgbWIjdAG9x"
      }
    },
    {
      "cell_type": "code",
      "source": [
        "print(data.shape)\n",
        "print(data.describe())\n",
        "print(\"Features correlation\")\n",
        "print(data.corr())\n",
        "print(\"A scatter plot showing petal width versus petal length\")\n",
        "plt.style.use('ggplot')\n",
        "plt.scatter(x=data['petal length (cm)'],y=data['petal width (cm)'],color='m',marker='*',label=\"Petal Data\")\n",
        "plt.gca().set(xlabel='Petal Length',ylabel='Petal Width',title='Petal Data')\n",
        "plt.legend()\n",
        "plt.show()"
      ],
      "metadata": {
        "colab": {
          "base_uri": "https://localhost:8080/",
          "height": 772
        },
        "collapsed": true,
        "id": "q33KwTeQA3u_",
        "outputId": "db1b2e22-57a9-4b8d-e58f-9098a4770a23"
      },
      "execution_count": 175,
      "outputs": [
        {
          "output_type": "stream",
          "name": "stdout",
          "text": [
            "(150, 4)\n",
            "       sepal length (cm)  sepal width (cm)  petal length (cm)  petal width (cm)\n",
            "count         150.000000        150.000000         150.000000        150.000000\n",
            "mean            5.843333          3.057333           3.758000          1.199333\n",
            "std             0.828066          0.435866           1.765298          0.762238\n",
            "min             4.300000          2.000000           1.000000          0.100000\n",
            "25%             5.100000          2.800000           1.600000          0.300000\n",
            "50%             5.800000          3.000000           4.350000          1.300000\n",
            "75%             6.400000          3.300000           5.100000          1.800000\n",
            "max             7.900000          4.400000           6.900000          2.500000\n",
            "Features correlation\n",
            "                   sepal length (cm)  sepal width (cm)  petal length (cm)  petal width (cm)\n",
            "sepal length (cm)           1.000000         -0.117570           0.871754          0.817941\n",
            "sepal width (cm)           -0.117570          1.000000          -0.428440         -0.366126\n",
            "petal length (cm)           0.871754         -0.428440           1.000000          0.962865\n",
            "petal width (cm)            0.817941         -0.366126           0.962865          1.000000\n",
            "A scatter plot showing petal width versus petal length\n"
          ]
        },
        {
          "output_type": "display_data",
          "data": {
            "text/plain": [
              "<Figure size 640x480 with 1 Axes>"
            ],
            "image/png": "[encoded data removed]"
          },
          "metadata": {}
        }
      ]
    },
    {
      "cell_type": "markdown",
      "source": [
        "**Data Preprocessing**\n",
        "\n",
        "Splitting the dataframe into training and testing sets.bold text bold text"
      ],
      "metadata": {
        "id": "Uqe0xgU4VPU4"
      }
    },
    {
      "cell_type": "code",
      "source": [
        "x_values=data[\"petal length (cm)\"].values.reshape(-1,1)\n",
        "y_values=data[\"petal width (cm)\"].values.reshape(-1,1)\n",
        "x_train,x_test,y_train,y_test=train_test_split(x_values,y_values,test_size=0.2)\n",
        "print(x_train)\n",
        "print()\n",
        "print(y_train)"
      ],
      "metadata": {
        "colab": {
          "base_uri": "https://localhost:8080/"
        },
        "collapsed": true,
        "id": "bJuO5Lv1VcBn",
        "outputId": "8aeb65ed-50ea-4343-e7af-577887ea2580"
      },
      "execution_count": 176,
      "outputs": [
        {
          "output_type": "stream",
          "name": "stdout",
          "text": [
            "[[1.2]\n",
            " [5.1]\n",
            " [4.5]\n",
            " [1.7]\n",
            " [3. ]\n",
            " [1.5]\n",
            " [1.4]\n",
            " [4.4]\n",
            " [4.5]\n",
            " [6.1]\n",
            " [5. ]\n",
            " [5.8]\n",
            " [5.9]\n",
            " [1.4]\n",
            " [5.7]\n",
            " [5.3]\n",
            " [3.5]\n",
            " [5.6]\n",
            " [4.1]\n",
            " [5.8]\n",
            " [1.3]\n",
            " [4.3]\n",
            " [4.7]\n",
            " [1.6]\n",
            " [4.9]\n",
            " [1.5]\n",
            " [5.4]\n",
            " [4. ]\n",
            " [1.3]\n",
            " [4.6]\n",
            " [5.6]\n",
            " [3.5]\n",
            " [4.7]\n",
            " [1.3]\n",
            " [4.5]\n",
            " [1.6]\n",
            " [6.3]\n",
            " [6.7]\n",
            " [4.8]\n",
            " [4.1]\n",
            " [1.5]\n",
            " [4.3]\n",
            " [1.9]\n",
            " [1.2]\n",
            " [4.2]\n",
            " [4.9]\n",
            " [1.6]\n",
            " [5. ]\n",
            " [1.5]\n",
            " [4.5]\n",
            " [4.7]\n",
            " [5.6]\n",
            " [1.6]\n",
            " [1.5]\n",
            " [6.6]\n",
            " [1.4]\n",
            " [3.8]\n",
            " [4.2]\n",
            " [5.5]\n",
            " [5.4]\n",
            " [1.7]\n",
            " [4.6]\n",
            " [4.4]\n",
            " [1.3]\n",
            " [5.7]\n",
            " [5.1]\n",
            " [4.2]\n",
            " [4.9]\n",
            " [5.6]\n",
            " [3.3]\n",
            " [4.8]\n",
            " [4.5]\n",
            " [4.1]\n",
            " [1.3]\n",
            " [5.1]\n",
            " [6.1]\n",
            " [4.5]\n",
            " [6. ]\n",
            " [1.5]\n",
            " [1.3]\n",
            " [4.8]\n",
            " [4. ]\n",
            " [4. ]\n",
            " [4.6]\n",
            " [1.9]\n",
            " [1.7]\n",
            " [1.4]\n",
            " [5.5]\n",
            " [4.4]\n",
            " [3.9]\n",
            " [1.5]\n",
            " [6.7]\n",
            " [6.4]\n",
            " [5. ]\n",
            " [1.4]\n",
            " [3.6]\n",
            " [4.5]\n",
            " [1.1]\n",
            " [6.9]\n",
            " [1.6]\n",
            " [5.2]\n",
            " [3.3]\n",
            " [4. ]\n",
            " [4.5]\n",
            " [5.1]\n",
            " [5.6]\n",
            " [1.5]\n",
            " [4.2]\n",
            " [1.5]\n",
            " [1.4]\n",
            " [1.6]\n",
            " [4.9]\n",
            " [5.9]\n",
            " [6.1]\n",
            " [5.6]\n",
            " [4.4]\n",
            " [4.9]\n",
            " [4.8]\n",
            " [5.5]\n",
            " [1.5]]\n",
            "\n",
            "[[0.2]\n",
            " [1.5]\n",
            " [1.5]\n",
            " [0.3]\n",
            " [1.1]\n",
            " [0.2]\n",
            " [0.2]\n",
            " [1.3]\n",
            " [1.3]\n",
            " [2.5]\n",
            " [2. ]\n",
            " [2.2]\n",
            " [2.1]\n",
            " [0.2]\n",
            " [2.5]\n",
            " [2.3]\n",
            " [1. ]\n",
            " [2.1]\n",
            " [1. ]\n",
            " [1.8]\n",
            " [0.2]\n",
            " [1.3]\n",
            " [1.6]\n",
            " [0.2]\n",
            " [1.5]\n",
            " [0.2]\n",
            " [2.1]\n",
            " [1. ]\n",
            " [0.3]\n",
            " [1.5]\n",
            " [1.4]\n",
            " [1. ]\n",
            " [1.5]\n",
            " [0.2]\n",
            " [1.5]\n",
            " [0.2]\n",
            " [1.8]\n",
            " [2.2]\n",
            " [1.4]\n",
            " [1.3]\n",
            " [0.1]\n",
            " [1.3]\n",
            " [0.2]\n",
            " [0.2]\n",
            " [1.2]\n",
            " [1.8]\n",
            " [0.4]\n",
            " [1.7]\n",
            " [0.3]\n",
            " [1.6]\n",
            " [1.2]\n",
            " [2.4]\n",
            " [0.2]\n",
            " [0.2]\n",
            " [2.1]\n",
            " [0.2]\n",
            " [1.1]\n",
            " [1.5]\n",
            " [2.1]\n",
            " [2.3]\n",
            " [0.4]\n",
            " [1.4]\n",
            " [1.2]\n",
            " [0.4]\n",
            " [2.3]\n",
            " [2.4]\n",
            " [1.3]\n",
            " [1.5]\n",
            " [2.4]\n",
            " [1. ]\n",
            " [1.8]\n",
            " [1.5]\n",
            " [1.3]\n",
            " [0.2]\n",
            " [1.8]\n",
            " [1.9]\n",
            " [1.5]\n",
            " [1.8]\n",
            " [0.2]\n",
            " [0.2]\n",
            " [1.8]\n",
            " [1.3]\n",
            " [1.2]\n",
            " [1.3]\n",
            " [0.4]\n",
            " [0.2]\n",
            " [0.2]\n",
            " [1.8]\n",
            " [1.4]\n",
            " [1.1]\n",
            " [0.4]\n",
            " [2. ]\n",
            " [2. ]\n",
            " [1.9]\n",
            " [0.2]\n",
            " [1.3]\n",
            " [1.7]\n",
            " [0.1]\n",
            " [2.3]\n",
            " [0.2]\n",
            " [2.3]\n",
            " [1. ]\n",
            " [1.3]\n",
            " [1.5]\n",
            " [1.9]\n",
            " [2.2]\n",
            " [0.4]\n",
            " [1.3]\n",
            " [0.1]\n",
            " [0.3]\n",
            " [0.6]\n",
            " [2. ]\n",
            " [2.3]\n",
            " [2.3]\n",
            " [1.8]\n",
            " [1.4]\n",
            " [1.8]\n",
            " [1.8]\n",
            " [1.8]\n",
            " [0.2]]\n"
          ]
        }
      ]
    },
    {
      "cell_type": "markdown",
      "source": [
        "**Model **Training**"
      ],
      "metadata": {
        "id": "ydjjOTmoX7Ff"
      }
    },
    {
      "cell_type": "code",
      "source": [
        "regression_model=LinearRegression()\n",
        "regression_model.fit(x_train,y_train)\n",
        "print(\"Optimal weight and bias terms\")\n",
        "print(f'Weight={regression_model.intercept_}')\n",
        "print(f'Bias={regression_model.coef_}')"
      ],
      "metadata": {
        "colab": {
          "base_uri": "https://localhost:8080/"
        },
        "id": "eZzBoFPcX-CO",
        "outputId": "84e1167e-edef-4d19-ab6f-617d704394ad"
      },
      "execution_count": 177,
      "outputs": [
        {
          "output_type": "stream",
          "name": "stdout",
          "text": [
            "Optimal weight and bias terms\n",
            "Weight=[-0.36456102]\n",
            "Bias=[[0.41492443]]\n"
          ]
        }
      ]
    },
    {
      "cell_type": "markdown",
      "source": [
        "**Assessing the Model**\n",
        "\n",
        "Function to predict petal width using test data"
      ],
      "metadata": {
        "id": "EtZfai8aZNQw"
      }
    },
    {
      "cell_type": "code",
      "source": [
        "def predict_petal_width(length):\n",
        "  return ((regression_model.coef_ * length) + regression_model.intercept_)"
      ],
      "metadata": {
        "id": "WC5xfro6auGr"
      },
      "execution_count": 178,
      "outputs": []
    },
    {
      "cell_type": "code",
      "source": [
        "pred_data=predict_petal_width(x_test)\n",
        "print(\"Predictions based on the test set\")\n",
        "print()\n",
        "print(\"       PETAL WIDTHS\")\n",
        "predicted_data=pd.DataFrame({\"Actual\":y_test.squeeze(),\"Predicted\":pred_data.squeeze()})\n",
        "print(predicted_data)"
      ],
      "metadata": {
        "colab": {
          "base_uri": "https://localhost:8080/"
        },
        "id": "SZnvIGn6bwoY",
        "outputId": "2a8a149a-b7c8-40d2-ec7f-7a64fc5c3c07"
      },
      "execution_count": 179,
      "outputs": [
        {
          "output_type": "stream",
          "name": "stdout",
          "text": [
            "Predictions based on the test set\n",
            "\n",
            "       PETAL WIDTHS\n",
            "    Actual  Predicted\n",
            "0      0.2   0.050363\n",
            "1      0.2   0.216333\n",
            "2      0.4   0.257826\n",
            "3      0.3   0.216333\n",
            "4      0.2   0.257826\n",
            "5      0.5   0.340811\n",
            "6      0.2   0.257826\n",
            "7      1.9   1.834538\n",
            "8      0.1   0.216333\n",
            "9      1.9   1.751554\n",
            "10     1.4   1.253644\n",
            "11     2.1   2.000508\n",
            "12     0.3   0.216333\n",
            "13     0.1   0.216333\n",
            "14     1.5   1.710061\n",
            "15     1.0   1.170659\n",
            "16     2.3   1.751554\n",
            "17     0.2   0.299318\n",
            "18     1.6   1.751554\n",
            "19     1.2   1.253644\n",
            "20     1.3   1.295137\n",
            "21     0.3   0.174841\n",
            "22     0.2   0.216333\n",
            "23     1.6   2.042001\n",
            "24     0.2   0.216333\n",
            "25     1.4   1.585584\n",
            "26     1.4   1.585584\n",
            "27     2.5   2.124986\n",
            "28     2.0   1.793046\n",
            "29     2.0   1.751554\n"
          ]
        }
      ]
    },
    {
      "cell_type": "markdown",
      "source": [
        "Making a random prediction"
      ],
      "metadata": {
        "id": "8LQCITnZe6nx"
      }
    },
    {
      "cell_type": "code",
      "source": [
        "num=None\n",
        "print(\"Input a petal length between 1.0 and 6.9\")\n",
        "num=np.array([float(input(\" = \"))],dtype=np.float64)\n",
        "value=predict_petal_width(num)\n",
        "print(f'The predicted petal width is {value}')"
      ],
      "metadata": {
        "colab": {
          "base_uri": "https://localhost:8080/"
        },
        "id": "YU2DB9lRe_F8",
        "outputId": "48fe92c6-1dca-4a97-eb13-739ba2d3f55a"
      },
      "execution_count": 180,
      "outputs": [
        {
          "output_type": "stream",
          "name": "stdout",
          "text": [
            "Input a petal length between 1.0 and 6.9\n",
            " = 5\n",
            "The predicted petal width is [[1.71006113]]\n"
          ]
        }
      ]
    },
    {
      "cell_type": "markdown",
      "source": [
        "**VISUALIZATION**"
      ],
      "metadata": {
        "id": "QBhfaSszkD-U"
      }
    },
    {
      "cell_type": "code",
      "source": [
        "plt.style.use('ggplot')\n",
        "plt.tight_layout()\n",
        "plt.scatter(x=x_train.squeeze(),y=y_train.squeeze(),color='b',label='Training Data')\n",
        "plt.scatter(x=x_test.squeeze(),y=y_test.squeeze(),color='r',label='Testing Data',marker='*')\n",
        "plt.plot(x_test.squeeze(),pred_data.squeeze(),color='g',label='Regression Line')\n",
        "plt.gca().set(xlabel='Petal Length (cm)',ylabel='Petal Width (cm)',title='Linear Regression Model Representation For Petal Data')\n",
        "plt.legend()\n",
        "plt.show()"
      ],
      "metadata": {
        "colab": {
          "base_uri": "https://localhost:8080/",
          "height": 477
        },
        "id": "pYZwBFnukOsp",
        "outputId": "222ddb40-ab71-4bc3-e5d6-d381e943b75f"
      },
      "execution_count": 182,
      "outputs": [
        {
          "output_type": "display_data",
          "data": {
            "text/plain": [
              "<Figure size 640x480 with 1 Axes>"
            ],
            "image/png": "[encoded data removed]"
          },
          "metadata": {}
        }
      ]
    },
    {
      "cell_type": "markdown",
      "source": [
        "**EVALUATING THE MODEL'S PERFFORMANCE**"
      ],
      "metadata": {
        "id": "E2KwX-ZmiXar"
      }
    },
    {
      "cell_type": "code",
      "source": [
        "mae=mean_absolute_error(y_test,pred_data)\n",
        "mse=mean_squared_error(y_test,pred_data)\n",
        "rmse=root_mean_squared_error(y_test,pred_data)\n",
        "print(\"Model evaluation Metrics\")\n",
        "print()\n",
        "print(f'Mean Absolute Error={mae}')\n",
        "print(f'Mean Squared Error={mse}')\n",
        "print(f'Root Mean Squared Error={rmse}')"
      ],
      "metadata": {
        "colab": {
          "base_uri": "https://localhost:8080/"
        },
        "id": "M6wkI9Fgi18_",
        "outputId": "364819ef-7c70-44e1-9e1d-24dcbcd83290"
      },
      "execution_count": 184,
      "outputs": [
        {
          "output_type": "stream",
          "name": "stdout",
          "text": [
            "Model evaluation Metrics\n",
            "\n",
            "Mean Absolute Error=0.1494231745007584\n",
            "Mean Squared Error=0.03696741275485739\n",
            "Root Mean Squared Error=0.19226911544722255\n"
          ]
        }
      ]
    }
  ]
}